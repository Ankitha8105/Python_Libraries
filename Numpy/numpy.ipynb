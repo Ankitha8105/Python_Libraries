{
 "cells": [
  {
   "cell_type": "markdown",
   "metadata": {},
   "source": [
    "'''\n",
    "    @Author: Ankitha B L\n",
    "    @Date: 27-11-2024\n",
    "    @Last Modified by: Ankitha B L\n",
    "    @Last Modified time: 27-11-2024\n",
    "    @Title : python program for numpy library\n",
    "'''"
   ]
  },
  {
   "cell_type": "markdown",
   "metadata": {},
   "source": [
    "### Q1. Write a Python program to convert a list of numeric value into a one-dimensional NumPy array"
   ]
  },
  {
   "cell_type": "code",
   "execution_count": 1,
   "metadata": {},
   "outputs": [],
   "source": [
    "import numpy as np\n",
    "import logger"
   ]
  },
  {
   "cell_type": "code",
   "execution_count": null,
   "metadata": {},
   "outputs": [
    {
     "name": "stdout",
     "output_type": "stream",
     "text": [
      "The array elements are :[1 2 3 4 7 9] and array type is :<class 'numpy.ndarray'>\n"
     ]
    }
   ],
   "source": [
    "log = logger.logger_init('Q1')\n",
    "\n",
    "\n",
    "def list_to_array(lst_ele):\n",
    "    \"\"\" \n",
    "    Description :\n",
    "        This function is used to convert a list of numeric value into a one-dimensional NumPy \n",
    "    Parameters :\n",
    "        lst_ele =  list elements\n",
    "    Return :\n",
    "        It returns numpy array elements\n",
    "    \"\"\"\n",
    "    arr = np.array(lst_ele)\n",
    "    return arr\n",
    "\n",
    "\n",
    "def main():\n",
    "    lst = [1,2,3,4,7,9]\n",
    "    np_arr  = list_to_array(lst)\n",
    "    print(f\"The array elements are :{np_arr} and array type is :{type(np_arr)}\")\n",
    "\n",
    "\n",
    "if __name__ ==\"__main__\":\n",
    "    main()"
   ]
  },
  {
   "cell_type": "markdown",
   "metadata": {},
   "source": [
    "### Q2. Create a 3x3 matrix with values ranging from 2 to 10."
   ]
  },
  {
   "cell_type": "code",
   "execution_count": 3,
   "metadata": {},
   "outputs": [
    {
     "name": "stdout",
     "output_type": "stream",
     "text": [
      "The resultant matrix is :\n",
      " [[ 2  3  4]\n",
      " [ 5  6  7]\n",
      " [ 8  9 10]]\n"
     ]
    }
   ],
   "source": [
    "log = logger.logger_init('Q2')\n",
    "\n",
    "\n",
    "def generate_matrix():\n",
    "    \"\"\" \n",
    "    Description :\n",
    "        This function is used to Create a 3x3 matrix with values ranging from 2 to 10\n",
    "        \n",
    "    Return :\n",
    "        It returns 3d array with values ranging from 2 to 10\n",
    "    \"\"\"\n",
    "    z = np.arange(2,11)\n",
    "    arr = z.reshape(3,3)\n",
    "    return arr\n",
    "\n",
    "\n",
    "def main():\n",
    "    res_arr = generate_matrix()\n",
    "    print(f\"The resultant matrix is :\\n {res_arr}\")\n",
    "\n",
    "\n",
    "if __name__ ==\"__main__\":\n",
    "    main()\n"
   ]
  },
  {
   "cell_type": "markdown",
   "metadata": {},
   "source": [
    "### Q3.Write a Python program to create a null vector of size 10 and update sixth value to 10"
   ]
  },
  {
   "cell_type": "code",
   "execution_count": null,
   "metadata": {},
   "outputs": [
    {
     "name": "stdout",
     "output_type": "stream",
     "text": [
      "Updated 6th value :[ 0.  0.  0.  0.  0.  0. 11.  0.  0.  0.]\n"
     ]
    }
   ],
   "source": [
    "log = logger.logger_init('Q3')\n",
    "\n",
    "\n",
    "def generate_null_vector():\n",
    "    \"\"\" \n",
    "    Description :\n",
    "        This function is used to create a null vector of size 10 and update sixth value to 11\n",
    "        \n",
    "    Return :\n",
    "        It returns array that contains null vector of size 10 and update sixth value to 11\n",
    "    \"\"\"\n",
    "    arr = np.zeros(10)\n",
    "    arr[6] = 11\n",
    "    return arr\n",
    "\n",
    "def main():\n",
    "    print(f\"Updated 6th value :{generate_null_vector()}\")\n",
    "\n",
    "\n",
    "if __name__ ==\"__main__\":\n",
    "    main()\n"
   ]
  },
  {
   "cell_type": "markdown",
   "metadata": {},
   "source": [
    "### Q4. Write a Python program to reverse an array (first element becomes last)"
   ]
  },
  {
   "cell_type": "code",
   "execution_count": 5,
   "metadata": {},
   "outputs": [
    {
     "name": "stdout",
     "output_type": "stream",
     "text": [
      "Original Array :[12 13 14 15 16 17 18 19 20 21 22 23 24 25 26 27 28 29 30 31 32 33 34 35\n",
      " 36 37]\n",
      "The reversed array :\n",
      "[37, 36, 35, 34, 33, 32, 31, 30, 29, 28, 27, 26, 25, 24, 23, 22, 21, 20, 19, 18, 17, 16, 15, 14, 13, 12]\n"
     ]
    }
   ],
   "source": [
    "log = logger.logger_init('Q4')\n",
    "\n",
    "\n",
    "def reverse_arr(arr_ele):\n",
    "    \"\"\" \n",
    "    Description :\n",
    "        This function is used to reverse an array \n",
    "    Parameters :\n",
    "        arr_ele = Numpy array elements\n",
    "    Return :\n",
    "        It returns reversed array \n",
    "    \"\"\"\n",
    "    return reversed(arr_ele)\n",
    "\n",
    "\n",
    "def main():\n",
    "    arr = np.arange(12,38)\n",
    "    print(f\"Original Array :{arr}\")\n",
    "    res_arr = reverse_arr(arr)\n",
    "    res = [item for item in res_arr]\n",
    "    print(f\"The reversed array :\\n{res}\")\n",
    "\n",
    "\n",
    "if __name__ ==\"__main__\":\n",
    "    main()"
   ]
  },
  {
   "cell_type": "markdown",
   "metadata": {},
   "source": [
    "### Q5.Write a Python program to create a 2d array with 1 on the border and 0 inside."
   ]
  },
  {
   "cell_type": "code",
   "execution_count": 6,
   "metadata": {},
   "outputs": [
    {
     "name": "stdout",
     "output_type": "stream",
     "text": [
      "The resultent  2D array is :\n",
      " [[1. 1. 1. 1. 1.]\n",
      " [1. 0. 0. 0. 1.]\n",
      " [1. 0. 0. 0. 1.]\n",
      " [1. 0. 0. 0. 1.]\n",
      " [1. 1. 1. 1. 1.]]\n"
     ]
    }
   ],
   "source": [
    "log = logger.logger_init('Q5')\n",
    "\n",
    "\n",
    "def generate_2d_arr():\n",
    "    \"\"\" \n",
    "    Description :\n",
    "        This function is used to create a 2d array with 1 on the border and 0 inside\n",
    "        \n",
    "    Return :\n",
    "        It returns 2d array with 1 on the border and 0 inside\n",
    "    \"\"\"\n",
    "    arr = np.ones((5,5))\n",
    "    z = np.zeros((3,3))\n",
    "    arr[1:4,1:4] = z\n",
    "    return arr\n",
    "\n",
    "\n",
    "def main():\n",
    "    res_arr = generate_2d_arr()\n",
    "    print(f\"The resultent  2D array is :\\n {res_arr}\")\n",
    "\n",
    "\n",
    "if __name__ ==\"__main__\":\n",
    "    main()"
   ]
  },
  {
   "cell_type": "markdown",
   "metadata": {},
   "source": [
    "### Q6. Write a Python program to add a border (filled with 0's) around an existing array "
   ]
  },
  {
   "cell_type": "code",
   "execution_count": 7,
   "metadata": {},
   "outputs": [
    {
     "name": "stdout",
     "output_type": "stream",
     "text": [
      "The resultant matrix is :\n",
      " [[0. 0. 0. 0. 0.]\n",
      " [0. 1. 1. 1. 0.]\n",
      " [0. 1. 1. 1. 0.]\n",
      " [0. 1. 1. 1. 0.]\n",
      " [0. 0. 0. 0. 0.]]\n"
     ]
    }
   ],
   "source": [
    "log = logger.logger_init('Q6')\n",
    "\n",
    "\n",
    "def generate_desired_matrix():\n",
    "    \"\"\" \n",
    "    Description :\n",
    "        This function is used to add a border (filled with 0's) around an existing array\n",
    "        \n",
    "    Return :\n",
    "        It returns  border matrix filled with 0's around an existing array\n",
    "    \"\"\"\n",
    "    arr = np.zeros((5,5))\n",
    "    z = np.ones((3,3))\n",
    "    arr[1:4,1:4] = z\n",
    "    return arr\n",
    "\n",
    "\n",
    "def main():\n",
    "    res_arr = generate_desired_matrix()\n",
    "    print(f\"The resultant matrix is :\\n {res_arr}\")\n",
    "\n",
    "\n",
    "if __name__ ==\"__main__\":\n",
    "    main()"
   ]
  },
  {
   "cell_type": "markdown",
   "metadata": {},
   "source": [
    "### Q7. Write a Python program to create a 8x8 matrix and fill it with a checkerboard pattern."
   ]
  },
  {
   "cell_type": "code",
   "execution_count": 8,
   "metadata": {},
   "outputs": [
    {
     "name": "stdout",
     "output_type": "stream",
     "text": [
      "Generated checkboard pattern :\n",
      "[[0 1 0 1 0 1 0 1]\n",
      " [1 0 1 0 1 0 1 0]\n",
      " [0 1 0 1 0 1 0 1]\n",
      " [1 0 1 0 1 0 1 0]\n",
      " [0 1 0 1 0 1 0 1]\n",
      " [1 0 1 0 1 0 1 0]\n",
      " [0 1 0 1 0 1 0 1]\n",
      " [1 0 1 0 1 0 1 0]]\n"
     ]
    }
   ],
   "source": [
    "log = logger.logger_init('Q7')\n",
    "\n",
    "\n",
    "def generate_checkerboard_pattern():\n",
    "    \"\"\" \n",
    "    Description :\n",
    "        This function is used to create a 8x8 matrix and fill it with a checkerboard pattern\n",
    "        \n",
    "    Return :\n",
    "        It returns 8x8 matrix and fill it with a checkerboard pattern\n",
    "    \"\"\"\n",
    "    arr = np.zeros((8,8),dtype='int32')\n",
    "    arr[1::2,::2] = 1\n",
    "    arr[::2,1::2] = 1\n",
    "    return arr\n",
    "\n",
    "def main():\n",
    "    print(f\"Generated checkboard pattern :\\n{generate_checkerboard_pattern()}\")\n",
    "\n",
    "if __name__ ==\"__main__\":\n",
    "    main()"
   ]
  },
  {
   "cell_type": "markdown",
   "metadata": {},
   "source": [
    "### Q8. Write a Python program to convert a list and tuple into arrays"
   ]
  },
  {
   "cell_type": "code",
   "execution_count": 10,
   "metadata": {},
   "outputs": [
    {
     "name": "stdout",
     "output_type": "stream",
     "text": [
      "List and Tuple into array elements are :\n",
      "(array([1, 2, 3, 4, 5, 6, 7, 8]), array([[8, 4, 6],\n",
      "       [1, 2, 3]]))\n"
     ]
    }
   ],
   "source": [
    "log = logger.logger_init('Q8')\n",
    "\n",
    "\n",
    "def list_tuple_to_array(lst_ele,tup_ele):\n",
    "    \"\"\" \n",
    "    Description :\n",
    "        This function is used to convert a list and tuple into arrays\n",
    "    Parameters :\n",
    "        lst_ele = list elements\n",
    "        tup_ele = tuple elements\n",
    "    Return :\n",
    "        It returns array \n",
    "    \"\"\"\n",
    "    arr = np.asarray(lst_ele)\n",
    "    arr1 = np.asarray(tup_ele)\n",
    "    return arr,arr1\n",
    "\n",
    "\n",
    "def main():\n",
    "    lst = [1,2,3,4,5,6,7,8]\n",
    "    tup_ele = ((8,4,6),(1,2,3))\n",
    "    print(f\"List and Tuple into array elements are :\\n{list_tuple_to_array(lst,tup_ele)}\")\n",
    "    \n",
    "    \n",
    "if __name__ ==\"__main__\":\n",
    "    main()"
   ]
  }
 ],
 "metadata": {
  "kernelspec": {
   "display_name": "Python 3",
   "language": "python",
   "name": "python3"
  },
  "language_info": {
   "codemirror_mode": {
    "name": "ipython",
    "version": 3
   },
   "file_extension": ".py",
   "mimetype": "text/x-python",
   "name": "python",
   "nbconvert_exporter": "python",
   "pygments_lexer": "ipython3",
   "version": "3.8.10"
  }
 },
 "nbformat": 4,
 "nbformat_minor": 2
}
