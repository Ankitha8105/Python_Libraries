{
 "cells": [
  {
   "cell_type": "markdown",
   "metadata": {},
   "source": [
    "'''\n",
    "    @Author: Ankitha B L\n",
    "    @Date: 27-11-2024\n",
    "    @Last Modified by: Ankitha B L\n",
    "    @Last Modified time: 28-11-2024\n",
    "    @Title : python program for numpy library\n",
    "'''"
   ]
  },
  {
   "cell_type": "markdown",
   "metadata": {},
   "source": [
    "### Q1. Write a Python program to convert a list of numeric value into a one-dimensional NumPy array"
   ]
  },
  {
   "cell_type": "code",
   "execution_count": 1,
   "metadata": {},
   "outputs": [],
   "source": [
    "import numpy as np\n",
    "import logger"
   ]
  },
  {
   "cell_type": "code",
   "execution_count": null,
   "metadata": {},
   "outputs": [
    {
     "name": "stdout",
     "output_type": "stream",
     "text": [
      "The array elements are :[1 2 3 4 7 9] and array type is :<class 'numpy.ndarray'>\n"
     ]
    }
   ],
   "source": [
    "log = logger.logger_init('Q1')\n",
    "\n",
    "\n",
    "def list_to_array(lst_ele):\n",
    "    \"\"\" \n",
    "    Description :\n",
    "        This function is used to convert a list of numeric value into a one-dimensional NumPy \n",
    "    Parameters :\n",
    "        lst_ele =  list elements\n",
    "    Return :\n",
    "        It returns numpy array elements\n",
    "    \"\"\"\n",
    "    arr = np.array(lst_ele)\n",
    "    return arr\n",
    "\n",
    "\n",
    "def main():\n",
    "    lst = [1,2,3,4,7,9]\n",
    "    np_arr  = list_to_array(lst)\n",
    "    print(f\"The array elements are :{np_arr} and array type is :{type(np_arr)}\")\n",
    "\n",
    "\n",
    "if __name__ ==\"__main__\":\n",
    "    main()"
   ]
  },
  {
   "cell_type": "markdown",
   "metadata": {},
   "source": [
    "### Q2. Create a 3x3 matrix with values ranging from 2 to 10."
   ]
  },
  {
   "cell_type": "code",
   "execution_count": 3,
   "metadata": {},
   "outputs": [
    {
     "name": "stdout",
     "output_type": "stream",
     "text": [
      "The resultant matrix is :\n",
      " [[ 2  3  4]\n",
      " [ 5  6  7]\n",
      " [ 8  9 10]]\n"
     ]
    }
   ],
   "source": [
    "log = logger.logger_init('Q2')\n",
    "\n",
    "\n",
    "def generate_matrix():\n",
    "    \"\"\" \n",
    "    Description :\n",
    "        This function is used to Create a 3x3 matrix with values ranging from 2 to 10\n",
    "        \n",
    "    Return :\n",
    "        It returns 3d array with values ranging from 2 to 10\n",
    "    \"\"\"\n",
    "    z = np.arange(2,11)\n",
    "    arr = z.reshape(3,3)\n",
    "    return arr\n",
    "\n",
    "\n",
    "def main():\n",
    "    res_arr = generate_matrix()\n",
    "    print(f\"The resultant matrix is :\\n {res_arr}\")\n",
    "\n",
    "\n",
    "if __name__ ==\"__main__\":\n",
    "    main()\n"
   ]
  },
  {
   "cell_type": "markdown",
   "metadata": {},
   "source": [
    "### Q3.Write a Python program to create a null vector of size 10 and update sixth value to 10"
   ]
  },
  {
   "cell_type": "code",
   "execution_count": null,
   "metadata": {},
   "outputs": [
    {
     "name": "stdout",
     "output_type": "stream",
     "text": [
      "Updated 6th value :[ 0.  0.  0.  0.  0.  0. 11.  0.  0.  0.]\n"
     ]
    }
   ],
   "source": [
    "log = logger.logger_init('Q3')\n",
    "\n",
    "\n",
    "def generate_null_vector():\n",
    "    \"\"\" \n",
    "    Description :\n",
    "        This function is used to create a null vector of size 10 and update sixth value to 11\n",
    "        \n",
    "    Return :\n",
    "        It returns array that contains null vector of size 10 and update sixth value to 11\n",
    "    \"\"\"\n",
    "    arr = np.zeros(10)\n",
    "    arr[6] = 11\n",
    "    return arr\n",
    "\n",
    "def main():\n",
    "    print(f\"Updated 6th value :{generate_null_vector()}\")\n",
    "\n",
    "\n",
    "if __name__ ==\"__main__\":\n",
    "    main()\n"
   ]
  },
  {
   "cell_type": "markdown",
   "metadata": {},
   "source": [
    "### Q4. Write a Python program to reverse an array (first element becomes last)"
   ]
  },
  {
   "cell_type": "code",
   "execution_count": 5,
   "metadata": {},
   "outputs": [
    {
     "name": "stdout",
     "output_type": "stream",
     "text": [
      "Original Array :[12 13 14 15 16 17 18 19 20 21 22 23 24 25 26 27 28 29 30 31 32 33 34 35\n",
      " 36 37]\n",
      "The reversed array :\n",
      "[37, 36, 35, 34, 33, 32, 31, 30, 29, 28, 27, 26, 25, 24, 23, 22, 21, 20, 19, 18, 17, 16, 15, 14, 13, 12]\n"
     ]
    }
   ],
   "source": [
    "log = logger.logger_init('Q4')\n",
    "\n",
    "\n",
    "def reverse_arr(arr_ele):\n",
    "    \"\"\" \n",
    "    Description :\n",
    "        This function is used to reverse an array \n",
    "    Parameters :\n",
    "        arr_ele = Numpy array elements\n",
    "    Return :\n",
    "        It returns reversed array \n",
    "    \"\"\"\n",
    "    return reversed(arr_ele)\n",
    "\n",
    "\n",
    "def main():\n",
    "    arr = np.arange(12,38)\n",
    "    print(f\"Original Array :{arr}\")\n",
    "    res_arr = reverse_arr(arr)\n",
    "    res = [item for item in res_arr]\n",
    "    print(f\"The reversed array :\\n{res}\")\n",
    "\n",
    "\n",
    "if __name__ ==\"__main__\":\n",
    "    main()"
   ]
  },
  {
   "cell_type": "markdown",
   "metadata": {},
   "source": [
    "### Q5.Write a Python program to create a 2d array with 1 on the border and 0 inside."
   ]
  },
  {
   "cell_type": "code",
   "execution_count": 6,
   "metadata": {},
   "outputs": [
    {
     "name": "stdout",
     "output_type": "stream",
     "text": [
      "The resultent  2D array is :\n",
      " [[1. 1. 1. 1. 1.]\n",
      " [1. 0. 0. 0. 1.]\n",
      " [1. 0. 0. 0. 1.]\n",
      " [1. 0. 0. 0. 1.]\n",
      " [1. 1. 1. 1. 1.]]\n"
     ]
    }
   ],
   "source": [
    "log = logger.logger_init('Q5')\n",
    "\n",
    "\n",
    "def generate_2d_arr():\n",
    "    \"\"\" \n",
    "    Description :\n",
    "        This function is used to create a 2d array with 1 on the border and 0 inside\n",
    "        \n",
    "    Return :\n",
    "        It returns 2d array with 1 on the border and 0 inside\n",
    "    \"\"\"\n",
    "    arr = np.ones((5,5))\n",
    "    z = np.zeros((3,3))\n",
    "    arr[1:4,1:4] = z\n",
    "    return arr\n",
    "\n",
    "\n",
    "def main():\n",
    "    res_arr = generate_2d_arr()\n",
    "    print(f\"The resultent  2D array is :\\n {res_arr}\")\n",
    "\n",
    "\n",
    "if __name__ ==\"__main__\":\n",
    "    main()"
   ]
  },
  {
   "cell_type": "markdown",
   "metadata": {},
   "source": [
    "### Q6. Write a Python program to add a border (filled with 0's) around an existing array "
   ]
  },
  {
   "cell_type": "code",
   "execution_count": 7,
   "metadata": {},
   "outputs": [
    {
     "name": "stdout",
     "output_type": "stream",
     "text": [
      "The resultant matrix is :\n",
      " [[0. 0. 0. 0. 0.]\n",
      " [0. 1. 1. 1. 0.]\n",
      " [0. 1. 1. 1. 0.]\n",
      " [0. 1. 1. 1. 0.]\n",
      " [0. 0. 0. 0. 0.]]\n"
     ]
    }
   ],
   "source": [
    "log = logger.logger_init('Q6')\n",
    "\n",
    "\n",
    "def generate_desired_matrix():\n",
    "    \"\"\" \n",
    "    Description :\n",
    "        This function is used to add a border (filled with 0's) around an existing array\n",
    "        \n",
    "    Return :\n",
    "        It returns  border matrix filled with 0's around an existing array\n",
    "    \"\"\"\n",
    "    arr = np.zeros((5,5))\n",
    "    z = np.ones((3,3))\n",
    "    arr[1:4,1:4] = z\n",
    "    return arr\n",
    "\n",
    "\n",
    "def main():\n",
    "    res_arr = generate_desired_matrix()\n",
    "    print(f\"The resultant matrix is :\\n {res_arr}\")\n",
    "\n",
    "\n",
    "if __name__ ==\"__main__\":\n",
    "    main()"
   ]
  },
  {
   "cell_type": "markdown",
   "metadata": {},
   "source": [
    "### Q7. Write a Python program to create a 8x8 matrix and fill it with a checkerboard pattern."
   ]
  },
  {
   "cell_type": "code",
   "execution_count": 8,
   "metadata": {},
   "outputs": [
    {
     "name": "stdout",
     "output_type": "stream",
     "text": [
      "Generated checkboard pattern :\n",
      "[[0 1 0 1 0 1 0 1]\n",
      " [1 0 1 0 1 0 1 0]\n",
      " [0 1 0 1 0 1 0 1]\n",
      " [1 0 1 0 1 0 1 0]\n",
      " [0 1 0 1 0 1 0 1]\n",
      " [1 0 1 0 1 0 1 0]\n",
      " [0 1 0 1 0 1 0 1]\n",
      " [1 0 1 0 1 0 1 0]]\n"
     ]
    }
   ],
   "source": [
    "log = logger.logger_init('Q7')\n",
    "\n",
    "\n",
    "def generate_checkerboard_pattern():\n",
    "    \"\"\" \n",
    "    Description :\n",
    "        This function is used to create a 8x8 matrix and fill it with a checkerboard pattern\n",
    "        \n",
    "    Return :\n",
    "        It returns 8x8 matrix and fill it with a checkerboard pattern\n",
    "    \"\"\"\n",
    "    arr = np.zeros((8,8),dtype='int32')\n",
    "    arr[1::2,::2] = 1\n",
    "    arr[::2,1::2] = 1\n",
    "    return arr\n",
    "\n",
    "def main():\n",
    "    print(f\"Generated checkboard pattern :\\n{generate_checkerboard_pattern()}\")\n",
    "\n",
    "if __name__ ==\"__main__\":\n",
    "    main()"
   ]
  },
  {
   "cell_type": "markdown",
   "metadata": {},
   "source": [
    "### Q8. Write a Python program to convert a list and tuple into arrays"
   ]
  },
  {
   "cell_type": "code",
   "execution_count": 10,
   "metadata": {},
   "outputs": [
    {
     "name": "stdout",
     "output_type": "stream",
     "text": [
      "List and Tuple into array elements are :\n",
      "(array([1, 2, 3, 4, 5, 6, 7, 8]), array([[8, 4, 6],\n",
      "       [1, 2, 3]]))\n"
     ]
    }
   ],
   "source": [
    "log = logger.logger_init('Q8')\n",
    "\n",
    "\n",
    "def list_tuple_to_array(lst_ele,tup_ele):\n",
    "    \"\"\" \n",
    "    Description :\n",
    "        This function is used to convert a list and tuple into arrays\n",
    "    Parameters :\n",
    "        lst_ele = list elements\n",
    "        tup_ele = tuple elements\n",
    "    Return :\n",
    "        It returns array \n",
    "    \"\"\"\n",
    "    arr = np.asarray(lst_ele)\n",
    "    arr1 = np.asarray(tup_ele)\n",
    "    return arr,arr1\n",
    "\n",
    "\n",
    "def main():\n",
    "    lst = [1,2,3,4,5,6,7,8]\n",
    "    tup_ele = ((8,4,6),(1,2,3))\n",
    "    print(f\"List and Tuple into array elements are :\\n{list_tuple_to_array(lst,tup_ele)}\")\n",
    "    \n",
    "    \n",
    "if __name__ ==\"__main__\":\n",
    "    main()"
   ]
  },
  {
   "cell_type": "markdown",
   "metadata": {},
   "source": [
    "### Q9. Write a Python program to append values to the end of an array"
   ]
  },
  {
   "cell_type": "code",
   "execution_count": null,
   "metadata": {},
   "outputs": [
    {
     "name": "stdout",
     "output_type": "stream",
     "text": [
      "The original array :[10 20 30]\n",
      "The array after appending values :[10 20 30 40 50 60 70 80 90]\n"
     ]
    }
   ],
   "source": [
    "log = logger.logger_init('Q9')\n",
    "\n",
    "\n",
    "def append_values(x):\n",
    "    \"\"\" \n",
    "    Description :\n",
    "        This function is used to append values to the end of an array\n",
    "    Parameters :\n",
    "        x = Numpy array elements\n",
    "    Return :\n",
    "        It returns array after appending values \n",
    "    \"\"\"\n",
    "    arr = np.append(x,[40,50,60,70,80,90])\n",
    "    return arr\n",
    "\n",
    "\n",
    "def main():\n",
    "    arr = np.array([10, 20, 30])\n",
    "    print(f\"The original array :{arr}\")\n",
    "    print(f\"The array after appending values :{append_values(arr)}\")\n",
    "    \n",
    "    \n",
    "if __name__ ==\"__main__\":\n",
    "    main()"
   ]
  },
  {
   "cell_type": "markdown",
   "metadata": {},
   "source": [
    "### Q10. Write a Python program to find the real and imaginary parts of an array of complex numbers"
   ]
  },
  {
   "cell_type": "code",
   "execution_count": null,
   "metadata": {},
   "outputs": [
    {
     "name": "stdout",
     "output_type": "stream",
     "text": [
      "Real part of the array :\n",
      "[1.         0.70710678]\n",
      "Imaginary part of the array :\n",
      "[0.         0.70710678]\n"
     ]
    }
   ],
   "source": [
    "log = logger.logger_init('Q10')\n",
    "\n",
    "\n",
    "def find_real_img(arr):\n",
    "    \"\"\" \n",
    "    Description :\n",
    "        This function is used to find the real and imaginary parts of an array of complex numbers\n",
    "    Parameters :\n",
    "        arr = Numpy array elements\n",
    "    Return :\n",
    "        It returns real and imaginary parts of an array of complex numbers\n",
    "    \"\"\"\n",
    "    real =  np.real(arr)\n",
    "    print(f\"Real part of the array :\\n{real}\")\n",
    "    img = np.imag(arr)\n",
    "    print(f\"Imaginary part of the array :\\n{img}\")\n",
    "    \n",
    "\n",
    "def main():\n",
    "    arr =  [ 1.00000000+0.j, 0.70710678+0.70710678j]\n",
    "    find_real_img(arr)\n",
    "    \n",
    "    \n",
    "if __name__ == \"__main__\":\n",
    "    main()"
   ]
  },
  {
   "cell_type": "markdown",
   "metadata": {},
   "source": [
    "### Q11. Write a Python program to find the number of elements of an array, length of one array element in bytes and total bytes consumed by the elements"
   ]
  },
  {
   "cell_type": "code",
   "execution_count": 13,
   "metadata": {},
   "outputs": [
    {
     "name": "stdout",
     "output_type": "stream",
     "text": [
      "Size of the array: 6\n",
      "Length of one array element in bytes: 4\n",
      "Total bytes consumed by the elements of the array: 24\n"
     ]
    }
   ],
   "source": [
    "log = logger.logger_init('Q11')\n",
    "\n",
    "\n",
    "def arr_attributes(arr_ele):\n",
    "    \"\"\" \n",
    "    Description :\n",
    "        This function is used to find the number of elements of an array, length of one\n",
    "        array element in bytes and total bytes consumed by the elements \n",
    "    Parameters :\n",
    "        arr_ele = Numpy array elements\n",
    "    Return :\n",
    "        It returns number of elements of an array, length of one array element in bytes and total bytes consumed by the elements \n",
    "    \"\"\"\n",
    "    size_arr = arr_ele.size\n",
    "    item_size = arr_ele.itemsize\n",
    "    num_bytes = arr_ele.nbytes\n",
    "    return size_arr,item_size,num_bytes\n",
    "\n",
    "\n",
    "def main():\n",
    "    arr = np.array([[1,2,3],[4,5,6]])\n",
    "    arr_size,size_item,bytes_num = arr_attributes(arr)\n",
    "    print(f\"Size of the array: {arr_size}\")\n",
    "    print(f\"Length of one array element in bytes: {size_item}\")\n",
    "    print(f\"Total bytes consumed by the elements of the array: {bytes_num}\")\n",
    "    \n",
    "    \n",
    "if __name__ == \"__main__\":\n",
    "    main()"
   ]
  },
  {
   "cell_type": "markdown",
   "metadata": {},
   "source": [
    "### Q12. Write a Python program to find common values between two arrays"
   ]
  },
  {
   "cell_type": "code",
   "execution_count": null,
   "metadata": {},
   "outputs": [
    {
     "name": "stdout",
     "output_type": "stream",
     "text": [
      "Common elements are :[10 40]\n"
     ]
    }
   ],
   "source": [
    "log = logger.logger_init('Q12')\n",
    "\n",
    "\n",
    "def arr_attributes(arr1,arr2):\n",
    "    \"\"\" \n",
    "    Description :\n",
    "        This function is used to find common values between two arrays \n",
    "    Parameters :\n",
    "        arr1 = First array elements\n",
    "        arr2 = Second array elements\n",
    "    Return :\n",
    "        It returns the common elements\n",
    "    \"\"\"\n",
    "    res_ele = np.intersect1d(arr1,arr2)\n",
    "    return res_ele\n",
    "\n",
    "\n",
    "def main():\n",
    "    arr1 = np.array([[0, 10, 20], [40, 60, 80]])\n",
    "    arr2 = np.array([10, 30, 40])\n",
    "    res = arr_attributes(arr1,arr2)\n",
    "    print(f\"Common elements are :{res}\")\n",
    "    \n",
    "    \n",
    "if __name__ == \"__main__\":\n",
    "    main()"
   ]
  },
  {
   "cell_type": "markdown",
   "metadata": {},
   "source": [
    "### Q13. Write a Python program to find the set difference of two arrays. The set difference will return the sorted, unique values in array1 that are not in array2"
   ]
  },
  {
   "cell_type": "code",
   "execution_count": null,
   "metadata": {},
   "outputs": [
    {
     "name": "stdout",
     "output_type": "stream",
     "text": [
      "Set difference between two arrays: [ 0 20 60 80]\n"
     ]
    }
   ],
   "source": [
    "log = logger.logger_init('Q13')\n",
    "\n",
    "\n",
    "def set_difference(arr1,arr2):\n",
    "    \"\"\" \n",
    "    Description :\n",
    "        This function is used to find the set difference of two arrays \n",
    "    Parameters :\n",
    "        arr1 = First array elements\n",
    "        arr2 = Second array elements\n",
    "    Return :\n",
    "        It returns set difference of two arrays\n",
    "    \"\"\"\n",
    "    res_arr = np.setdiff1d(arr1,arr2)\n",
    "    return res_arr\n",
    "\n",
    "    \n",
    "def main():\n",
    "    arr1 = np.array([0,10,20,40,60,80])\n",
    "    arr2 = np.array([10, 30, 40, 50, 70, 90])\n",
    "    print(f\"Set difference between two arrays: {set_difference(arr1,arr2)}\")\n",
    "    \n",
    "    \n",
    "if __name__ == \"__main__\":\n",
    "    main()"
   ]
  },
  {
   "cell_type": "markdown",
   "metadata": {},
   "source": [
    "### Q14. Write a Python program to find the set exclusive-or of two arrays. Set exclusive-or will return the sorted, unique values that are in only one (not both) of the input arrays"
   ]
  },
  {
   "cell_type": "code",
   "execution_count": null,
   "metadata": {},
   "outputs": [
    {
     "name": "stdout",
     "output_type": "stream",
     "text": [
      " Unique values that are in only one (not both) of the input arrays: [ 0 20 30 50 60 70 80 90]\n"
     ]
    }
   ],
   "source": [
    "log = logger.logger_init('Q14')\n",
    "\n",
    "\n",
    "def set_exclusive_or(arr1,arr2):\n",
    "    \"\"\" \n",
    "    Description :\n",
    "        This function is used to find the set exclusive-or of two arrays. \n",
    "    Parameters :\n",
    "        arr1 = First array elements\n",
    "        arr2 = Second array elements\n",
    "    Return :\n",
    "        It returns set exclusive-or of two arrays\n",
    "    \"\"\"\n",
    "    arr_unique = np.setxor1d(arr1,arr2)\n",
    "    return arr_unique\n",
    "    \n",
    "    \n",
    "def main():\n",
    "    arr1 = np.array([ 0,10,20,40,60,80])\n",
    "    arr2 = np.array([10, 30, 40, 50, 70, 90])\n",
    "    print(f\" Unique values that are in only one (not both) of the input arrays: {set_exclusive_or(arr1,arr2)}\")\n",
    "    \n",
    "    \n",
    "if __name__ == \"__main__\":\n",
    "    main()"
   ]
  },
  {
   "cell_type": "markdown",
   "metadata": {},
   "source": [
    "### Q15. Write a Python program compare two arrays using numpy"
   ]
  },
  {
   "cell_type": "code",
   "execution_count": 20,
   "metadata": {},
   "outputs": [
    {
     "name": "stdout",
     "output_type": "stream",
     "text": [
      "[False False]\n",
      "[False False]\n",
      "[ True  True]\n",
      "[ True  True]\n"
     ]
    }
   ],
   "source": [
    "log = logger.logger_init('Q15')\n",
    "\n",
    "\n",
    "def compare_arrs(arr1,arr2):\n",
    "    \"\"\" \n",
    "    Description :\n",
    "        This function is used to compare two arrays using numpy\n",
    "    Parameters :\n",
    "        arr1 = First array elements\n",
    "        arr2 = Second array elements\n",
    "    Return :\n",
    "        It returns compared two arrays elements\n",
    "    \"\"\"\n",
    "    res1 = np.greater(arr1,arr2)\n",
    "    res2 = np.greater_equal(arr1,arr2)\n",
    "    res3 = np.less(arr1,arr2)\n",
    "    res4 = np.less_equal(arr1,arr2)\n",
    "    return res1,res2,res3,res4\n",
    "\n",
    "\n",
    "def main():\n",
    "    arr1 = np.array( [1,2])\n",
    "    arr2 = np.array( [4,5])\n",
    "    res  = compare_arrs(arr1,arr2)\n",
    "    for item in res:\n",
    "        print(item)\n",
    "    \n",
    "    \n",
    "if __name__ == \"__main__\":\n",
    "    main()"
   ]
  },
  {
   "cell_type": "markdown",
   "metadata": {},
   "source": [
    "### Q16. Write a Python program to save a NumPy array to a text file "
   ]
  },
  {
   "cell_type": "code",
   "execution_count": 21,
   "metadata": {},
   "outputs": [],
   "source": [
    "log = logger.logger_init('Q16')\n",
    "\n",
    "\n",
    "def save_to_file(arr):\n",
    "    \"\"\" \n",
    "    Description :\n",
    "        This function is used to save a NumPy array to a text file \n",
    "    Parameters :\n",
    "        arr = Numpy array elements\n",
    "    \"\"\"\n",
    "    np.savetxt('file.out',arr,delimiter=',')\n",
    "\n",
    "    \n",
    "def main():\n",
    "    arr = np.array([1,2,3,4,5])\n",
    "    save_to_file(arr)\n",
    "    \n",
    "    \n",
    "if __name__ == \"__main__\":\n",
    "    main()"
   ]
  },
  {
   "cell_type": "markdown",
   "metadata": {},
   "source": [
    "### Q17. Write a Python program to create a contiguous flattened array"
   ]
  },
  {
   "cell_type": "code",
   "execution_count": 22,
   "metadata": {},
   "outputs": [
    {
     "name": "stdout",
     "output_type": "stream",
     "text": [
      "New flattened array: \n",
      "[10 20 30 20 40 50]\n"
     ]
    }
   ],
   "source": [
    "log = logger.logger_init('Q17')\n",
    "\n",
    "\n",
    "def flatten_arr(arr):\n",
    "    \"\"\" \n",
    "    Description :\n",
    "        This function is used to create a contiguous flattened array \n",
    "    Parameters :\n",
    "        arr = Numpy array elements\n",
    "    Return :\n",
    "        It returns flattened array\n",
    "    \"\"\"\n",
    "    return np.ravel(arr)\n",
    "\n",
    "\n",
    "def main():\n",
    "    arr = np.array([[10,20,30],[20,40,50]])\n",
    "    print(f\"New flattened array: \\n{flatten_arr(arr)}\")\n",
    "    \n",
    "    \n",
    "if __name__ == \"__main__\":\n",
    "    main()"
   ]
  }
 ],
 "metadata": {
  "kernelspec": {
   "display_name": "Python 3",
   "language": "python",
   "name": "python3"
  },
  "language_info": {
   "codemirror_mode": {
    "name": "ipython",
    "version": 3
   },
   "file_extension": ".py",
   "mimetype": "text/x-python",
   "name": "python",
   "nbconvert_exporter": "python",
   "pygments_lexer": "ipython3",
   "version": "3.8.10"
  }
 },
 "nbformat": 4,
 "nbformat_minor": 2
}
