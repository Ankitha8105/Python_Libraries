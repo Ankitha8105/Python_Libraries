{
 "cells": [
  {
   "cell_type": "markdown",
   "metadata": {},
   "source": [
    "'''\n",
    "    @Author: Ankitha B L\n",
    "    @Date: 27-11-2024\n",
    "    @Last Modified by: Ankitha B L\n",
    "    @Last Modified time: 27-11-2024\n",
    "    @Title : python program for numpy library\n",
    "'''"
   ]
  },
  {
   "cell_type": "markdown",
   "metadata": {},
   "source": [
    "### Q1. Write a Python program to convert a list of numeric value into a one-dimensional NumPy array"
   ]
  },
  {
   "cell_type": "code",
   "execution_count": 1,
   "metadata": {},
   "outputs": [],
   "source": [
    "import numpy as np\n",
    "import logger"
   ]
  },
  {
   "cell_type": "code",
   "execution_count": 2,
   "metadata": {},
   "outputs": [
    {
     "name": "stdout",
     "output_type": "stream",
     "text": [
      "The array elements are :[1 2 3 4 7 9] and array type is :<class 'numpy.ndarray'>\n"
     ]
    }
   ],
   "source": [
    "log = logger.logger_init('Q1')\n",
    "\n",
    "\n",
    "def list_to_array(lst_ele):\n",
    "    \"\"\" \n",
    "    Description :\n",
    "        This function is used to convert a list of numeric value into a one-dimensional NumPy \n",
    "    Parameters :\n",
    "        lst_ele =  list elements\n",
    "    Return :\n",
    "        It returns numpy array elements\n",
    "    \"\"\"\n",
    "    arr = np.array(lst_ele)\n",
    "    return arr\n",
    "\n",
    "\n",
    "def main():\n",
    "    #1.convert a list of numeric value into a one-dimensional NumPy\n",
    "    lst = [1,2,3,4,7,9]\n",
    "    np_arr  = list_to_array(lst)\n",
    "    print(f\"The array elements are :{np_arr} and array type is :{type(np_arr)}\")\n",
    "\n",
    "\n",
    "if __name__ ==\"__main__\":\n",
    "    main()"
   ]
  }
 ],
 "metadata": {
  "kernelspec": {
   "display_name": "Python 3",
   "language": "python",
   "name": "python3"
  },
  "language_info": {
   "codemirror_mode": {
    "name": "ipython",
    "version": 3
   },
   "file_extension": ".py",
   "mimetype": "text/x-python",
   "name": "python",
   "nbconvert_exporter": "python",
   "pygments_lexer": "ipython3",
   "version": "3.8.10"
  }
 },
 "nbformat": 4,
 "nbformat_minor": 2
}
