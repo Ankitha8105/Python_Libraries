{
 "cells": [
  {
   "cell_type": "markdown",
   "metadata": {},
   "source": [
    "'''\n",
    "    @Author: Ankitha B L\n",
    "    @Date: 27-11-2024\n",
    "    @Last Modified by: Ankitha B L\n",
    "    @Last Modified time: 27-11-2024\n",
    "    @Title : python program for numpy library\n",
    "'''"
   ]
  },
  {
   "cell_type": "markdown",
   "metadata": {},
   "source": [
    "### Q1. Write a Python program to convert a list of numeric value into a one-dimensional NumPy array"
   ]
  },
  {
   "cell_type": "code",
   "execution_count": 1,
   "metadata": {},
   "outputs": [],
   "source": [
    "import numpy as np\n",
    "import logger"
   ]
  },
  {
   "cell_type": "code",
   "execution_count": null,
   "metadata": {},
   "outputs": [
    {
     "name": "stdout",
     "output_type": "stream",
     "text": [
      "The array elements are :[1 2 3 4 7 9] and array type is :<class 'numpy.ndarray'>\n"
     ]
    }
   ],
   "source": [
    "log = logger.logger_init('Q1')\n",
    "\n",
    "\n",
    "def list_to_array(lst_ele):\n",
    "    \"\"\" \n",
    "    Description :\n",
    "        This function is used to convert a list of numeric value into a one-dimensional NumPy \n",
    "    Parameters :\n",
    "        lst_ele =  list elements\n",
    "    Return :\n",
    "        It returns numpy array elements\n",
    "    \"\"\"\n",
    "    arr = np.array(lst_ele)\n",
    "    return arr\n",
    "\n",
    "\n",
    "def main():\n",
    "    lst = [1,2,3,4,7,9]\n",
    "    np_arr  = list_to_array(lst)\n",
    "    print(f\"The array elements are :{np_arr} and array type is :{type(np_arr)}\")\n",
    "\n",
    "\n",
    "if __name__ ==\"__main__\":\n",
    "    main()"
   ]
  },
  {
   "cell_type": "markdown",
   "metadata": {},
   "source": [
    "### Q2. Create a 3x3 matrix with values ranging from 2 to 10."
   ]
  },
  {
   "cell_type": "code",
   "execution_count": 3,
   "metadata": {},
   "outputs": [
    {
     "name": "stdout",
     "output_type": "stream",
     "text": [
      "The resultant matrix is :\n",
      " [[ 2  3  4]\n",
      " [ 5  6  7]\n",
      " [ 8  9 10]]\n"
     ]
    }
   ],
   "source": [
    "log = logger.logger_init('Q2')\n",
    "\n",
    "\n",
    "def generate_matrix():\n",
    "    \"\"\" \n",
    "    Description :\n",
    "        This function is used to Create a 3x3 matrix with values ranging from 2 to 10\n",
    "        \n",
    "    Return :\n",
    "        It returns 3d array with values ranging from 2 to 10\n",
    "    \"\"\"\n",
    "    z = np.arange(2,11)\n",
    "    arr = z.reshape(3,3)\n",
    "    return arr\n",
    "\n",
    "\n",
    "def main():\n",
    "    res_arr = generate_matrix()\n",
    "    print(f\"The resultant matrix is :\\n {res_arr}\")\n",
    "\n",
    "\n",
    "if __name__ ==\"__main__\":\n",
    "    main()\n"
   ]
  },
  {
   "cell_type": "markdown",
   "metadata": {},
   "source": [
    "### Q3.Write a Python program to create a null vector of size 10 and update sixth value to 10"
   ]
  },
  {
   "cell_type": "code",
   "execution_count": 4,
   "metadata": {},
   "outputs": [
    {
     "name": "stdout",
     "output_type": "stream",
     "text": [
      "Updated 6th value :[ 0.  0.  0.  0.  0.  0. 11.  0.  0.  0.]\n"
     ]
    }
   ],
   "source": [
    "log = logger.logger_init('Q2')\n",
    "\n",
    "\n",
    "def generate_null_vector():\n",
    "    \"\"\" \n",
    "    Description :\n",
    "        This function is used to create a null vector of size 10 and update sixth value to 11\n",
    "        \n",
    "    Return :\n",
    "        It returns array that contains null vector of size 10 and update sixth value to 11\n",
    "    \"\"\"\n",
    "    arr = np.zeros(10)\n",
    "    arr[6] = 11\n",
    "    return arr\n",
    "\n",
    "def main():\n",
    "    print(f\"Updated 6th value :{generate_null_vector()}\")\n",
    "\n",
    "\n",
    "if __name__ ==\"__main__\":\n",
    "    main()\n"
   ]
  }
 ],
 "metadata": {
  "kernelspec": {
   "display_name": "Python 3",
   "language": "python",
   "name": "python3"
  },
  "language_info": {
   "codemirror_mode": {
    "name": "ipython",
    "version": 3
   },
   "file_extension": ".py",
   "mimetype": "text/x-python",
   "name": "python",
   "nbconvert_exporter": "python",
   "pygments_lexer": "ipython3",
   "version": "3.8.10"
  }
 },
 "nbformat": 4,
 "nbformat_minor": 2
}
