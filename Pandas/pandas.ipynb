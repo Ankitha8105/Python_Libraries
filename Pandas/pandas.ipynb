{
 "cells": [
  {
   "cell_type": "markdown",
   "metadata": {},
   "source": [
    "'''\n",
    "    @Author: Ankitha B L\n",
    "    @Date: 30-11-2024\n",
    "    @Last Modified by: Ankitha B L\n",
    "    @Last Modified time: 1-11-2024\n",
    "    @Title : Python programs for pandas Library\n",
    "'''"
   ]
  },
  {
   "cell_type": "markdown",
   "metadata": {},
   "source": [
    "### Q1. Write a Python program to create and display a one-dimensional array-like object containing an array of data using Pandas module"
   ]
  },
  {
   "cell_type": "code",
   "execution_count": 1,
   "metadata": {},
   "outputs": [],
   "source": [
    "import pandas as pd\n",
    "import logger "
   ]
  },
  {
   "cell_type": "code",
   "execution_count": 6,
   "metadata": {},
   "outputs": [
    {
     "name": "stdout",
     "output_type": "stream",
     "text": [
      "Pandas array is :\n",
      "A    1\n",
      "B    5\n",
      "C    7\n",
      "D    3\n",
      "E    8\n",
      "dtype: int64 \n",
      " Data Type of array is:int64\n"
     ]
    }
   ],
   "source": [
    "log = logger.logger_init('Q1')\n",
    "\n",
    "\n",
    "def create_1d_pdarray(lst_ele):\n",
    "    arr = pd.Series(lst_ele,index=[\"A\",\"B\",\"C\",\"D\",\"E\"])\n",
    "    return arr\n",
    "\n",
    "\n",
    "def main():\n",
    "    lst_ele = [1,5,7,3,8]\n",
    "    print(f\"Pandas array is :\\n{create_1d_pdarray(lst_ele)} \\n Data Type of array is:{create_1d_pdarray(lst_ele).dtype}\")\n",
    "\n",
    "\n",
    "if __name__ == \"__main__\":\n",
    "    main()"
   ]
  }
 ],
 "metadata": {
  "kernelspec": {
   "display_name": "Python 3",
   "language": "python",
   "name": "python3"
  },
  "language_info": {
   "codemirror_mode": {
    "name": "ipython",
    "version": 3
   },
   "file_extension": ".py",
   "mimetype": "text/x-python",
   "name": "python",
   "nbconvert_exporter": "python",
   "pygments_lexer": "ipython3",
   "version": "3.8.10"
  }
 },
 "nbformat": 4,
 "nbformat_minor": 2
}
