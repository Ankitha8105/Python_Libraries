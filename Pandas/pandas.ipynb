{
 "cells": [
  {
   "cell_type": "markdown",
   "metadata": {},
   "source": [
    "'''\n",
    "    @Author: Ankitha B L\n",
    "    @Date: 30-11-2024\n",
    "    @Last Modified by: Ankitha B L\n",
    "    @Last Modified time: 1-11-2024\n",
    "    @Title : Python programs for pandas Library\n",
    "'''"
   ]
  },
  {
   "cell_type": "markdown",
   "metadata": {},
   "source": [
    "### Q1. Write a Python program to create and display a one-dimensional array-like object containing an array of data using Pandas module"
   ]
  },
  {
   "cell_type": "code",
   "execution_count": 39,
   "metadata": {},
   "outputs": [],
   "source": [
    "import pandas as pd\n",
    "import numpy as np\n",
    "import logger "
   ]
  },
  {
   "cell_type": "code",
   "execution_count": null,
   "metadata": {},
   "outputs": [
    {
     "name": "stdout",
     "output_type": "stream",
     "text": [
      "Pandas array is :\n",
      "A    1\n",
      "B    5\n",
      "C    7\n",
      "D    3\n",
      "E    8\n",
      "dtype: int64 \n",
      " Data Type of array is:int64\n"
     ]
    }
   ],
   "source": [
    "log = logger.logger_init('Q1')\n",
    "\n",
    "\n",
    "def create_1d_pdarray(lst_ele):\n",
    "    \"\"\" \n",
    "    Description :\n",
    "        This function is used to create and display a one-dimensional array-like object\n",
    "    Parameters :\n",
    "        lst_ele =  list elements\n",
    "    Return :\n",
    "        It returns pandas array elements\n",
    "    \"\"\"\n",
    "    arr = pd.Series(lst_ele,index=[\"A\",\"B\",\"C\",\"D\",\"E\"])\n",
    "    return arr\n",
    "\n",
    "\n",
    "def main():\n",
    "    lst_ele = [1,5,7,3,8]\n",
    "    print(f\"Pandas array is :\\n{create_1d_pdarray(lst_ele)} \\n Data Type of array is:{create_1d_pdarray(lst_ele).dtype}\")\n",
    "\n",
    "\n",
    "if __name__ == \"__main__\":\n",
    "    main()"
   ]
  },
  {
   "cell_type": "markdown",
   "metadata": {},
   "source": [
    "### Q2. Write a Python program to convert a Panda module Series to Python list and it's type"
   ]
  },
  {
   "cell_type": "code",
   "execution_count": null,
   "metadata": {},
   "outputs": [
    {
     "name": "stdout",
     "output_type": "stream",
     "text": [
      "The pandas array elements and its type:\n",
      "0    3\n",
      "1    6\n",
      "2    8\n",
      "3    4\n",
      "dtype: int64,<class 'pandas.core.series.Series'>\n",
      "The converted list is :\n",
      "[3, 6, 8, 4]\n",
      "the data type of list is :<class 'list'>\n"
     ]
    }
   ],
   "source": [
    "log = logger.logger_init('Q2')\n",
    "\n",
    "\n",
    "def pdarray_tolist(arr):\n",
    "    \"\"\" \n",
    "    Description :\n",
    "        This function is used to convert a Panda module Series to Python list and it's type\n",
    "    Parameters :\n",
    "        arr =  pandas array elements\n",
    "    Return :\n",
    "        It returns list and it's type\n",
    "    \"\"\"\n",
    "    print(f\"The pandas array elements and its type:\\n{arr},{type(arr)}\")\n",
    "    return arr.tolist()\n",
    "\n",
    "\n",
    "def main():\n",
    "    arr = pd.Series([3,6,8,4])\n",
    "    lst = pdarray_tolist(arr)\n",
    "    print(f\"The converted list is :\\n{lst}\")\n",
    "    print(f\"the data type of list is :{type(lst)}\")\n",
    "    \n",
    "    \n",
    "    \n",
    "if __name__ == \"__main__\":\n",
    "    main()"
   ]
  },
  {
   "cell_type": "markdown",
   "metadata": {},
   "source": [
    "### Q3. Write a Python program to add, subtract, multiple and divide two Pandas Series"
   ]
  },
  {
   "cell_type": "code",
   "execution_count": null,
   "metadata": {},
   "outputs": [
    {
     "name": "stdout",
     "output_type": "stream",
     "text": [
      "The result by adding two arrays :\n",
      "0     3\n",
      "1     7\n",
      "2    11\n",
      "3    15\n",
      "4    19\n",
      "dtype: int64\n",
      "The result by subtarcting two arrays :\n",
      "0    1\n",
      "1    1\n",
      "2    1\n",
      "3    1\n",
      "4    1\n",
      "dtype: int64\n",
      "The result by multiplying two arrays :\n",
      "0     2\n",
      "1    12\n",
      "2    30\n",
      "3    56\n",
      "4    90\n",
      "dtype: int64\n",
      "The result by Dividing two arrays :\n",
      "0    2.000000\n",
      "1    1.333333\n",
      "2    1.200000\n",
      "3    1.142857\n",
      "4    1.111111\n",
      "dtype: float64\n"
     ]
    }
   ],
   "source": [
    "log = logger.logger_init('Q3')\n",
    "\n",
    "\n",
    "def add_two_series(arr1,arr2):\n",
    "    \"\"\" \n",
    "    Description :\n",
    "        This function is used to add, subtract, multiple and divide two Pandas Series\n",
    "    Parameters :\n",
    "        arr1 = First pandas array elements\n",
    "        arr2 = Second pandas array elements\n",
    "    Return :\n",
    "        It returns addition,multiplication,divvision of two arrays\n",
    "    \"\"\"\n",
    "    add = arr1 + arr2\n",
    "    sub = arr1 - arr2\n",
    "    mul = arr1 * arr2\n",
    "    div = arr1/arr2\n",
    "    return add,sub,mul,div\n",
    "\n",
    "def main():\n",
    "    arr1 =pd.Series([2, 4, 6, 8, 10])\n",
    "    arr2 =pd.Series( [1, 3, 5, 7, 9])\n",
    "    add,sub,mul,div = add_two_series(arr1,arr2)\n",
    "    print(f\"The result by adding two arrays :\\n{add}\")\n",
    "    print(f\"The result by subtarcting two arrays :\\n{sub}\")\n",
    "    print(f\"The result by multiplying two arrays :\\n{mul}\")\n",
    "    print(f\"The result by Dividing two arrays :\\n{div}\")\n",
    "    \n",
    "    \n",
    "if __name__ == \"__main__\":\n",
    "    main()    "
   ]
  },
  {
   "cell_type": "markdown",
   "metadata": {},
   "source": [
    "### Q4. Write a Python program to get the powers of an array values element-wise"
   ]
  },
  {
   "cell_type": "code",
   "execution_count": null,
   "metadata": {},
   "outputs": [
    {
     "name": "stdout",
     "output_type": "stream",
     "text": [
      "Original array\n",
      "[0, 1, 2, 3, 4, 5, 6]\n",
      "\n",
      "First array elements raised to powers from second array, element-wise:\n",
      "0      1\n",
      "1      1\n",
      "2      8\n",
      "3     27\n",
      "4     64\n",
      "5    125\n",
      "6    216\n",
      "dtype: int64\n"
     ]
    }
   ],
   "source": [
    "log = logger.logger_init('Q4')\n",
    "\n",
    "\n",
    "def get_powers(arr, powers):\n",
    "    \"\"\"\n",
    "    Description:\n",
    "        This function used to computes the element-wise power of an array using Pandas.\n",
    "    Parameters:\n",
    "        arr: List or Pandas Series containing base values.\n",
    "        powers: List or Pandas Series containing exponents.\n",
    "    Returns:\n",
    "        It returns Pandas Series with the element-wise power results.\n",
    "    \"\"\"\n",
    "    return pd.Series(arr) ** pd.Series(powers)\n",
    "\n",
    "def main():\n",
    "    arr = [0, 1, 2, 3, 4, 5, 6]\n",
    "    powers = [0, 1, 3, 3, 3, 3, 3]  \n",
    "\n",
    "    \n",
    "    result = get_powers(arr, powers)\n",
    "\n",
    "\n",
    "    print(\"Original array\")\n",
    "    print(arr)  \n",
    "    print(\"\\nFirst array elements raised to powers from second array, element-wise:\")\n",
    "    print(result)\n",
    "\n",
    "if __name__ == \"__main__\":\n",
    "    main()"
   ]
  },
  {
   "cell_type": "markdown",
   "metadata": {},
   "source": [
    "### Q5. Write a Python program to create and display a DataFrame from a specified dictionary data which has the index labels"
   ]
  },
  {
   "cell_type": "code",
   "execution_count": null,
   "metadata": {},
   "outputs": [
    {
     "name": "stdout",
     "output_type": "stream",
     "text": [
      "Data in DtaFrame format are :\n",
      "        name  score  attempts qualify\n",
      "a  Anastasia   12.5         1     yes\n",
      "b       Dima    9.0         3      no\n",
      "c  Katherine   16.5         2     yes\n",
      "d      James    NaN         3      no\n",
      "e      Emily    9.0         2      no\n",
      "f    Michael   20.0         3     yes\n",
      "g    Matthew   14.5         1     yes\n",
      "h      Laura    NaN         1      no\n",
      "i      Kevin    8.0         2      no\n",
      "j      Jonas   19.0         1     yes\n"
     ]
    }
   ],
   "source": [
    "log = logger.logger_init('Q5')\n",
    "\n",
    "\n",
    "def dict_to_dataframe(dict):\n",
    "    \"\"\"\n",
    "    Description:\n",
    "        This function used to create and display a DataFrame from a specified dictionary data which has the index labels\n",
    "    Parameters:\n",
    "        dict : Dictionary Data\n",
    "    Returns:\n",
    "        It returns data in Table formate\n",
    "    \"\"\"\n",
    "    dic = pd.DataFrame(dict,index = ['a', 'b', 'c', 'd', 'e', 'f', 'g', 'h', 'i', 'j'])\n",
    "    return dic\n",
    "\n",
    "\n",
    "def main():\n",
    "    exam_data = {'name': ['Anastasia', 'Dima', 'Katherine', 'James', 'Emily', 'Michael',\n",
    "                'Matthew', 'Laura', 'Kevin', 'Jonas'],\n",
    "                'score': [12.5, 9, 16.5, np.nan, 9, 20, 14.5, np.nan, 8, 19],\n",
    "                'attempts': [1, 3, 2, 3, 2, 3, 1, 1, 2, 1],\n",
    "                'qualify': ['yes', 'no', 'yes', 'no', 'no', 'yes', 'yes', 'no', 'no', 'yes']}   \n",
    "    print(f\"Data in DataFrame format are :\\n{get_powers(exam_data)}\")\n",
    "    \n",
    "\n",
    "if __name__ == \"__main__\":\n",
    "    main() "
   ]
  },
  {
   "cell_type": "markdown",
   "metadata": {},
   "source": [
    "### Q6. Write a Python program to display a summary of the basic information about a specified Data Frame and its data"
   ]
  },
  {
   "cell_type": "code",
   "execution_count": null,
   "metadata": {},
   "outputs": [
    {
     "name": "stdout",
     "output_type": "stream",
     "text": [
      "Information about data :\n",
      "<class 'pandas.core.frame.DataFrame'>\n",
      "Index: 10 entries, a to j\n",
      "Data columns (total 4 columns):\n",
      " #   Column    Non-Null Count  Dtype  \n",
      "---  ------    --------------  -----  \n",
      " 0   name      10 non-null     object \n",
      " 1   score     8 non-null      float64\n",
      " 2   attempts  10 non-null     int64  \n",
      " 3   qualify   10 non-null     object \n",
      "dtypes: float64(1), int64(1), object(2)\n",
      "memory usage: 400.0+ bytes\n"
     ]
    }
   ],
   "source": [
    "log = logger.logger_init('Q6')\n",
    "\n",
    "\n",
    "def get_info(dict):\n",
    "    \"\"\"\n",
    "    Description:\n",
    "        This function used to display a summary of the basic information\n",
    "    Parameters:\n",
    "        dict : Dictionary Data\n",
    "    Returns:\n",
    "        It returns infromation about the data \n",
    "    \"\"\"\n",
    "    return dict.info()\n",
    "\n",
    "\n",
    "def main():\n",
    "    exam_data = {'name': ['Anastasia', 'Dima', 'Katherine', 'James', 'Emily', 'Michael', 'Matthew',\n",
    "                'Laura', 'Kevin', 'Jonas'],\n",
    "                'score': [12.5, 9, 16.5, np.nan, 9, 20, 14.5, np.nan, 8, 19],\n",
    "                'attempts': [1, 3, 2, 3, 2, 3, 1, 1, 2, 1],\n",
    "                'qualify': ['yes', 'no', 'yes', 'no', 'no', 'yes', 'yes', 'no', 'no', 'yes']}\n",
    "\n",
    "    table = pd.DataFrame(exam_data,index =  ['a', 'b', 'c', 'd', 'e', 'f', 'g', 'h', 'i', 'j'])\n",
    "    print(f\"Information about data :\")\n",
    "    get_info(table)\n",
    "    \n",
    "    \n",
    "if __name__ == \"__main__\":\n",
    "    main()"
   ]
  },
  {
   "cell_type": "markdown",
   "metadata": {},
   "source": [
    "### Q7. Write a Python program to get the first 3 rows of a given DataFrame. "
   ]
  },
  {
   "cell_type": "code",
   "execution_count": null,
   "metadata": {},
   "outputs": [
    {
     "name": "stdout",
     "output_type": "stream",
     "text": [
      "First 3 Rows data  :\n",
      "        name  score  attempts qualify\n",
      "a  Anastasia   12.5         1     yes\n",
      "b       Dima    9.0         3      no\n",
      "c  Katherine   16.5         2     yes\n"
     ]
    }
   ],
   "source": [
    "log = logger.logger_init('Q7')\n",
    "\n",
    "\n",
    "def get_first3_rows(dict):\n",
    "    \"\"\"\n",
    "    Description:\n",
    "        This function used to get the first 3 rows of a given DataFrame\n",
    "    Parameters:\n",
    "        dict : Dictionary Data\n",
    "    Returns:\n",
    "        It returns first 3 rows data\n",
    "    \"\"\"\n",
    "    return dict.head(3)\n",
    "\n",
    "\n",
    "def main():\n",
    "    exam_data = {'name': ['Anastasia', 'Dima', 'Katherine', 'James', 'Emily', 'Michael', 'Matthew',\n",
    "                'Laura', 'Kevin', 'Jonas'],\n",
    "                'score': [12.5, 9, 16.5, np.nan, 9, 20, 14.5, np.nan, 8, 19],\n",
    "                'attempts': [1, 3, 2, 3, 2, 3, 1, 1, 2, 1],\n",
    "                'qualify': ['yes', 'no', 'yes', 'no', 'no', 'yes', 'yes', 'no', 'no', 'yes']}\n",
    "\n",
    "    table = pd.DataFrame(exam_data,index =  ['a', 'b', 'c', 'd', 'e', 'f', 'g', 'h', 'i', 'j'])\n",
    "    print(f\"First 3 Rows data  :\\n{get_first3_rows(table)}\")\n",
    "    \n",
    "    \n",
    "if __name__ == \"__main__\":\n",
    "    main()"
   ]
  },
  {
   "cell_type": "markdown",
   "metadata": {},
   "source": [
    "### Q8. Write a Python program to select the 'name' and 'score' columns from the following DataFrame"
   ]
  },
  {
   "cell_type": "code",
   "execution_count": 51,
   "metadata": {},
   "outputs": [
    {
     "name": "stdout",
     "output_type": "stream",
     "text": [
      "'name','Score' column data  :\n",
      "        name  score\n",
      "a  Anastasia   12.5\n",
      "b       Dima    9.0\n",
      "c  Katherine   16.5\n",
      "d      James    NaN\n",
      "e      Emily    9.0\n",
      "f    Michael   20.0\n",
      "g    Matthew   14.5\n",
      "h      Laura    NaN\n",
      "i      Kevin    8.0\n",
      "j      Jonas   19.0\n"
     ]
    }
   ],
   "source": [
    "log = logger.logger_init('Q8')\n",
    "\n",
    "\n",
    "def specified_col_data(dict):\n",
    "    \"\"\"\n",
    "    Description:\n",
    "        This function used to select the 'name' and 'score' columns from the following DataFrame\n",
    "    Parameters:\n",
    "        dict : Dictionary Data\n",
    "    Returns:\n",
    "        It returns 'name','score' column data\n",
    "    \"\"\"\n",
    "    return dict[['name','score']]\n",
    "\n",
    "\n",
    "def main():\n",
    "    exam_data = {'name': ['Anastasia', 'Dima', 'Katherine', 'James', 'Emily', 'Michael', 'Matthew',\n",
    "                'Laura', 'Kevin', 'Jonas'],\n",
    "                'score': [12.5, 9, 16.5, np.nan, 9, 20, 14.5, np.nan, 8, 19],\n",
    "                'attempts': [1, 3, 2, 3, 2, 3, 1, 1, 2, 1],\n",
    "                'qualify': ['yes', 'no', 'yes', 'no', 'no', 'yes', 'yes', 'no', 'no', 'yes']}\n",
    "\n",
    "    table = pd.DataFrame(exam_data,index =  ['a', 'b', 'c', 'd', 'e', 'f', 'g', 'h', 'i', 'j'])\n",
    "    print(f\"'name','Score' column data  :\\n{specified_col_data(table)}\")\n",
    "    \n",
    "    \n",
    "if __name__ == \"__main__\":\n",
    "    main()"
   ]
  },
  {
   "cell_type": "markdown",
   "metadata": {},
   "source": [
    "### Q9. Write a Python program to select the specified columns and rows from a given data frame"
   ]
  },
  {
   "cell_type": "code",
   "execution_count": 54,
   "metadata": {},
   "outputs": [
    {
     "name": "stdout",
     "output_type": "stream",
     "text": [
      "'name','Score' column Specified data  :\n",
      "      name  score\n",
      "b     Dima    9.0\n",
      "d    James    NaN\n",
      "f  Michael   20.0\n",
      "g  Matthew   14.5\n"
     ]
    }
   ],
   "source": [
    "log = logger.logger_init('Q9')\n",
    "\n",
    "\n",
    "def specified_data(dict):\n",
    "    \"\"\"\n",
    "    Description:\n",
    "        This function used to select the specified columns and rows from a given data frame\n",
    "    Parameters:\n",
    "        dict : Dictionary Data\n",
    "    Returns:\n",
    "        It returns specified columns and rows from a given data frame\n",
    "    \"\"\"\n",
    "    return dict.loc[['b','d','f','g'],['name','score']]\n",
    "\n",
    "\n",
    "def main():\n",
    "    exam_data = {'name': ['Anastasia', 'Dima', 'Katherine', 'James', 'Emily', 'Michael', 'Matthew',\n",
    "                'Laura', 'Kevin', 'Jonas'],\n",
    "                'score': [12.5, 9, 16.5, np.nan, 9, 20, 14.5, np.nan, 8, 19],\n",
    "                'attempts': [1, 3, 2, 3, 2, 3, 1, 1, 2, 1],\n",
    "                'qualify': ['yes', 'no', 'yes', 'no', 'no', 'yes', 'yes', 'no', 'no', 'yes']}\n",
    "\n",
    "    table = pd.DataFrame(exam_data,index =  ['a', 'b', 'c', 'd', 'e', 'f', 'g', 'h', 'i', 'j'])\n",
    "    print(f\"'name','Score' column Specified data  :\\n{specified_data(table)}\")\n",
    "    \n",
    "    \n",
    "if __name__ == \"__main__\":\n",
    "    main()"
   ]
  },
  {
   "cell_type": "markdown",
   "metadata": {},
   "source": [
    "### Q10. Write a Python program to select the rows where the number of attempts in the examination is greater than 2"
   ]
  },
  {
   "cell_type": "code",
   "execution_count": null,
   "metadata": {},
   "outputs": [
    {
     "name": "stdout",
     "output_type": "stream",
     "text": [
      "Grater than 2 attempts row data :\n",
      "      name  score  attempts qualify\n",
      "b     Dima    9.0         3      no\n",
      "d    James    NaN         3      no\n",
      "f  Michael   20.0         3     yes\n"
     ]
    }
   ],
   "source": [
    "log = logger.logger_init('Q10')\n",
    "\n",
    "\n",
    "def get_attemps(dict):\n",
    "    \"\"\"\n",
    "    Description:\n",
    "        This function used to select the rows where the number of attempts in the examination is greater than 2.\n",
    "    Parameters:\n",
    "        dict : Dictionary Data\n",
    "    Returns:\n",
    "        It returns rows where the number of attempts in the examination is greater than 2\n",
    "    \"\"\"\n",
    "    return dict[dict['attempts'] > 2]\n",
    "\n",
    "\n",
    "def main():\n",
    "    exam_data = {'name': ['Anastasia', 'Dima', 'Katherine', 'James', 'Emily', 'Michael', 'Matthew',\n",
    "                'Laura', 'Kevin', 'Jonas'],\n",
    "                'score': [12.5, 9, 16.5, np.nan, 9, 20, 14.5, np.nan, 8, 19],\n",
    "                'attempts': [1, 3, 2, 3, 2, 3, 1, 1, 2, 1],\n",
    "                'qualify': ['yes', 'no', 'yes', 'no', 'no', 'yes', 'yes', 'no', 'no', 'yes']}\n",
    "\n",
    "    table = pd.DataFrame(exam_data,index =  ['a', 'b', 'c', 'd', 'e', 'f', 'g', 'h', 'i', 'j'])\n",
    "    print(f\"Grater than 2 attempts rows data :\\n{get_attemps(table)}\")\n",
    "    \n",
    "    \n",
    "if __name__ == \"__main__\":\n",
    "    main()"
   ]
  }
 ],
 "metadata": {
  "kernelspec": {
   "display_name": "Python 3",
   "language": "python",
   "name": "python3"
  },
  "language_info": {
   "codemirror_mode": {
    "name": "ipython",
    "version": 3
   },
   "file_extension": ".py",
   "mimetype": "text/x-python",
   "name": "python",
   "nbconvert_exporter": "python",
   "pygments_lexer": "ipython3",
   "version": "3.8.10"
  }
 },
 "nbformat": 4,
 "nbformat_minor": 2
}
