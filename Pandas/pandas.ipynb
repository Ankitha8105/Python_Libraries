{
 "cells": [
  {
   "cell_type": "markdown",
   "metadata": {},
   "source": [
    "'''\n",
    "    @Author: Ankitha B L\n",
    "    @Date: 30-11-2024\n",
    "    @Last Modified by: Ankitha B L\n",
    "    @Last Modified time: 1-11-2024\n",
    "    @Title : Python programs for pandas Library\n",
    "'''"
   ]
  },
  {
   "cell_type": "markdown",
   "metadata": {},
   "source": [
    "### Q1. Write a Python program to create and display a one-dimensional array-like object containing an array of data using Pandas module"
   ]
  },
  {
   "cell_type": "code",
   "execution_count": 1,
   "metadata": {},
   "outputs": [],
   "source": [
    "import pandas as pd\n",
    "import logger "
   ]
  },
  {
   "cell_type": "code",
   "execution_count": null,
   "metadata": {},
   "outputs": [
    {
     "name": "stdout",
     "output_type": "stream",
     "text": [
      "Pandas array is :\n",
      "A    1\n",
      "B    5\n",
      "C    7\n",
      "D    3\n",
      "E    8\n",
      "dtype: int64 \n",
      " Data Type of array is:int64\n"
     ]
    }
   ],
   "source": [
    "log = logger.logger_init('Q1')\n",
    "\n",
    "\n",
    "def create_1d_pdarray(lst_ele):\n",
    "    \"\"\" \n",
    "    Description :\n",
    "        This function is used to create and display a one-dimensional array-like object\n",
    "    Parameters :\n",
    "        lst_ele =  list elements\n",
    "    Return :\n",
    "        It returns pandas array elements\n",
    "    \"\"\"\n",
    "    arr = pd.Series(lst_ele,index=[\"A\",\"B\",\"C\",\"D\",\"E\"])\n",
    "    return arr\n",
    "\n",
    "\n",
    "def main():\n",
    "    lst_ele = [1,5,7,3,8]\n",
    "    print(f\"Pandas array is :\\n{create_1d_pdarray(lst_ele)} \\n Data Type of array is:{create_1d_pdarray(lst_ele).dtype}\")\n",
    "\n",
    "\n",
    "if __name__ == \"__main__\":\n",
    "    main()"
   ]
  },
  {
   "cell_type": "markdown",
   "metadata": {},
   "source": [
    "### Q2. Write a Python program to convert a Panda module Series to Python list and it's type"
   ]
  },
  {
   "cell_type": "code",
   "execution_count": null,
   "metadata": {},
   "outputs": [
    {
     "name": "stdout",
     "output_type": "stream",
     "text": [
      "The pandas array elements and its type:\n",
      "0    3\n",
      "1    6\n",
      "2    8\n",
      "3    4\n",
      "dtype: int64,<class 'pandas.core.series.Series'>\n",
      "The converted list is :\n",
      "[3, 6, 8, 4]\n",
      "the data type of list is :<class 'list'>\n"
     ]
    }
   ],
   "source": [
    "log = logger.logger_init('Q2')\n",
    "\n",
    "\n",
    "def pdarray_tolist(arr):\n",
    "    \"\"\" \n",
    "    Description :\n",
    "        This function is used to convert a Panda module Series to Python list and it's type\n",
    "    Parameters :\n",
    "        arr =  pandas array elements\n",
    "    Return :\n",
    "        It returns list and it's type\n",
    "    \"\"\"\n",
    "    print(f\"The pandas array elements and its type:\\n{arr},{type(arr)}\")\n",
    "    return arr.tolist()\n",
    "\n",
    "\n",
    "def main():\n",
    "    arr = pd.Series([3,6,8,4])\n",
    "    lst = pdarray_tolist(arr)\n",
    "    print(f\"The converted list is :\\n{lst}\")\n",
    "    print(f\"the data type of list is :{type(lst)}\")\n",
    "    \n",
    "    \n",
    "    \n",
    "if __name__ == \"__main__\":\n",
    "    main()"
   ]
  },
  {
   "cell_type": "markdown",
   "metadata": {},
   "source": [
    "### Q3. Write a Python program to add, subtract, multiple and divide two Pandas Series"
   ]
  },
  {
   "cell_type": "code",
   "execution_count": null,
   "metadata": {},
   "outputs": [
    {
     "name": "stdout",
     "output_type": "stream",
     "text": [
      "The result by adding two arrays :\n",
      "0     3\n",
      "1     7\n",
      "2    11\n",
      "3    15\n",
      "4    19\n",
      "dtype: int64\n",
      "The result by subtarcting two arrays :\n",
      "0    1\n",
      "1    1\n",
      "2    1\n",
      "3    1\n",
      "4    1\n",
      "dtype: int64\n",
      "The result by multiplying two arrays :\n",
      "0     2\n",
      "1    12\n",
      "2    30\n",
      "3    56\n",
      "4    90\n",
      "dtype: int64\n",
      "The result by Dividing two arrays :\n",
      "0    2.000000\n",
      "1    1.333333\n",
      "2    1.200000\n",
      "3    1.142857\n",
      "4    1.111111\n",
      "dtype: float64\n"
     ]
    }
   ],
   "source": [
    "log = logger.logger_init('Q3')\n",
    "\n",
    "\n",
    "def add_two_series(arr1,arr2):\n",
    "    \"\"\" \n",
    "    Description :\n",
    "        This function is used to add, subtract, multiple and divide two Pandas Series\n",
    "    Parameters :\n",
    "        arr1 = First pandas array elements\n",
    "        arr2 = Second pandas array elements\n",
    "    Return :\n",
    "        It returns addition,multiplication,divvision of two arrays\n",
    "    \"\"\"\n",
    "    add = arr1 + arr2\n",
    "    sub = arr1 - arr2\n",
    "    mul = arr1 * arr2\n",
    "    div = arr1/arr2\n",
    "    return add,sub,mul,div\n",
    "\n",
    "def main():\n",
    "    arr1 =pd.Series([2, 4, 6, 8, 10])\n",
    "    arr2 =pd.Series( [1, 3, 5, 7, 9])\n",
    "    add,sub,mul,div = add_two_series(arr1,arr2)\n",
    "    print(f\"The result by adding two arrays :\\n{add}\")\n",
    "    print(f\"The result by subtarcting two arrays :\\n{sub}\")\n",
    "    print(f\"The result by multiplying two arrays :\\n{mul}\")\n",
    "    print(f\"The result by Dividing two arrays :\\n{div}\")\n",
    "    \n",
    "    \n",
    "if __name__ == \"__main__\":\n",
    "    main()    "
   ]
  }
 ],
 "metadata": {
  "kernelspec": {
   "display_name": "Python 3",
   "language": "python",
   "name": "python3"
  },
  "language_info": {
   "codemirror_mode": {
    "name": "ipython",
    "version": 3
   },
   "file_extension": ".py",
   "mimetype": "text/x-python",
   "name": "python",
   "nbconvert_exporter": "python",
   "pygments_lexer": "ipython3",
   "version": "3.8.10"
  }
 },
 "nbformat": 4,
 "nbformat_minor": 2
}
